{
  "cells": [
    {
      "cell_type": "markdown",
      "metadata": {
        "id": "view-in-github",
        "colab_type": "text"
      },
      "source": [
        "<a href=\"https://colab.research.google.com/github/Douch23/HubbleCobayaPantheoSH0ES/blob/main/GC_HubbleCobayaPantheonSH0ES.ipynb\" target=\"_parent\"><img src=\"https://colab.research.google.com/assets/colab-badge.svg\" alt=\"Open In Colab\"/></a>"
      ]
    },
    {
      "cell_type": "markdown",
      "id": "7f73ccf9-b348-406d-8883-036352d20a8f",
      "metadata": {
        "id": "7f73ccf9-b348-406d-8883-036352d20a8f"
      },
      "source": [
        "## Код для анализа и проверки параметра Хаббла различных моделей\n",
        "\n"
      ]
    },
    {
      "cell_type": "code",
      "source": [
        "!pip install cobaya\n",
        "\n",
        "from google.colab import drive      # для работы с файлами из GoogleDrive\n",
        "drive.mount('/content/drive')       # нужно дать доступ и создать папку \"Colab Notebooks\""
      ],
      "metadata": {
        "colab": {
          "base_uri": "https://localhost:8080/"
        },
        "id": "JMoETaZGpGWs",
        "outputId": "1aa9650d-327a-428a-b777-5e203fee3ffd"
      },
      "id": "JMoETaZGpGWs",
      "execution_count": null,
      "outputs": [
        {
          "output_type": "stream",
          "name": "stdout",
          "text": [
            "Requirement already satisfied: cobaya in /usr/local/lib/python3.11/dist-packages (3.5.7)\n",
            "Requirement already satisfied: numpy>=1.17.0 in /usr/local/lib/python3.11/dist-packages (from cobaya) (2.0.2)\n",
            "Requirement already satisfied: scipy>=1.5 in /usr/local/lib/python3.11/dist-packages (from cobaya) (1.15.2)\n",
            "Requirement already satisfied: pandas>=1.0.1 in /usr/local/lib/python3.11/dist-packages (from cobaya) (2.2.2)\n",
            "Requirement already satisfied: PyYAML>=5.1 in /usr/local/lib/python3.11/dist-packages (from cobaya) (6.0.2)\n",
            "Requirement already satisfied: requests>=2.18 in /usr/local/lib/python3.11/dist-packages (from cobaya) (2.32.3)\n",
            "Requirement already satisfied: py-bobyqa>=1.4 in /usr/local/lib/python3.11/dist-packages (from cobaya) (1.5.0)\n",
            "Requirement already satisfied: GetDist>=1.3.1 in /usr/local/lib/python3.11/dist-packages (from cobaya) (1.6.4)\n",
            "Requirement already satisfied: fuzzywuzzy>=0.17 in /usr/local/lib/python3.11/dist-packages (from cobaya) (0.18.0)\n",
            "Requirement already satisfied: packaging in /usr/local/lib/python3.11/dist-packages (from cobaya) (24.2)\n",
            "Requirement already satisfied: tqdm in /usr/local/lib/python3.11/dist-packages (from cobaya) (4.67.1)\n",
            "Requirement already satisfied: portalocker>=2.3.0 in /usr/local/lib/python3.11/dist-packages (from cobaya) (3.1.1)\n",
            "Requirement already satisfied: dill>=0.3.3 in /usr/local/lib/python3.11/dist-packages (from cobaya) (0.3.7)\n",
            "Requirement already satisfied: typing_extensions in /usr/local/lib/python3.11/dist-packages (from cobaya) (4.13.2)\n",
            "Requirement already satisfied: matplotlib!=3.5.0,>=2.2.0 in /usr/local/lib/python3.11/dist-packages (from GetDist>=1.3.1->cobaya) (3.10.0)\n",
            "Requirement already satisfied: python-dateutil>=2.8.2 in /usr/local/lib/python3.11/dist-packages (from pandas>=1.0.1->cobaya) (2.9.0.post0)\n",
            "Requirement already satisfied: pytz>=2020.1 in /usr/local/lib/python3.11/dist-packages (from pandas>=1.0.1->cobaya) (2025.2)\n",
            "Requirement already satisfied: tzdata>=2022.7 in /usr/local/lib/python3.11/dist-packages (from pandas>=1.0.1->cobaya) (2025.2)\n",
            "Requirement already satisfied: setuptools in /usr/local/lib/python3.11/dist-packages (from py-bobyqa>=1.4->cobaya) (75.2.0)\n",
            "Requirement already satisfied: charset-normalizer<4,>=2 in /usr/local/lib/python3.11/dist-packages (from requests>=2.18->cobaya) (3.4.2)\n",
            "Requirement already satisfied: idna<4,>=2.5 in /usr/local/lib/python3.11/dist-packages (from requests>=2.18->cobaya) (3.10)\n",
            "Requirement already satisfied: urllib3<3,>=1.21.1 in /usr/local/lib/python3.11/dist-packages (from requests>=2.18->cobaya) (2.4.0)\n",
            "Requirement already satisfied: certifi>=2017.4.17 in /usr/local/lib/python3.11/dist-packages (from requests>=2.18->cobaya) (2025.4.26)\n",
            "Requirement already satisfied: contourpy>=1.0.1 in /usr/local/lib/python3.11/dist-packages (from matplotlib!=3.5.0,>=2.2.0->GetDist>=1.3.1->cobaya) (1.3.2)\n",
            "Requirement already satisfied: cycler>=0.10 in /usr/local/lib/python3.11/dist-packages (from matplotlib!=3.5.0,>=2.2.0->GetDist>=1.3.1->cobaya) (0.12.1)\n",
            "Requirement already satisfied: fonttools>=4.22.0 in /usr/local/lib/python3.11/dist-packages (from matplotlib!=3.5.0,>=2.2.0->GetDist>=1.3.1->cobaya) (4.57.0)\n",
            "Requirement already satisfied: kiwisolver>=1.3.1 in /usr/local/lib/python3.11/dist-packages (from matplotlib!=3.5.0,>=2.2.0->GetDist>=1.3.1->cobaya) (1.4.8)\n",
            "Requirement already satisfied: pillow>=8 in /usr/local/lib/python3.11/dist-packages (from matplotlib!=3.5.0,>=2.2.0->GetDist>=1.3.1->cobaya) (11.2.1)\n",
            "Requirement already satisfied: pyparsing>=2.3.1 in /usr/local/lib/python3.11/dist-packages (from matplotlib!=3.5.0,>=2.2.0->GetDist>=1.3.1->cobaya) (3.2.3)\n",
            "Requirement already satisfied: six>=1.5 in /usr/local/lib/python3.11/dist-packages (from python-dateutil>=2.8.2->pandas>=1.0.1->cobaya) (1.17.0)\n",
            "Drive already mounted at /content/drive; to attempt to forcibly remount, call drive.mount(\"/content/drive\", force_remount=True).\n"
          ]
        }
      ]
    },
    {
      "cell_type": "code",
      "execution_count": null,
      "id": "6296b6ea",
      "metadata": {
        "id": "6296b6ea"
      },
      "outputs": [],
      "source": [
        "import os  # Работа с путями и файловой системой\n",
        "import numpy as np  # Работа с массивами и численные методы\n",
        "import matplotlib.pyplot as plt  # Построение графиков\n",
        "import pandas as pd  # Обработка и анализ табличных данных\n",
        "from math import sqrt, pow, log  # Математические функции: корень, степень, логарифм\n",
        "import matplotlib.cm as cm  # Цветовые схемы (colormaps) для визуализаций\n",
        "from scipy.integrate import quad  # Численное интегрирование функций\n",
        "from cobaya.run import run  # Запуск модели с помощью cobaya (MCMC, nested sampling и др.)\n",
        "from getdist.mcsamples import MCSamplesFromCobaya  # Преобразование результата cobaya в объект GetDist\n",
        "import getdist.plots as gdplt  # Визуализация результатов: угловые графики и пр.\n",
        "\n",
        "# === Настройки графиков ===\n",
        "# Установка стандартного размера всех графиков\n",
        "plt.rcParams[\"figure.figsize\"] = (20, 18)\n",
        "\n",
        "plt.style.use('/content/drive/MyDrive/Colab Notebooks/standard.mplstyle')"
      ]
    },
    {
      "cell_type": "code",
      "execution_count": null,
      "id": "c21b8ab9-984a-4c15-9f3e-cdb05c4ecbb6",
      "metadata": {
        "id": "c21b8ab9-984a-4c15-9f3e-cdb05c4ecbb6"
      },
      "outputs": [],
      "source": [
        "# === Загрузка и предварительная обработка данных Pantheon+ SH0ES ===\n",
        "\n",
        "data_file = '/content/drive/MyDrive/Colab Notebooks/Pantheon+SH0ES.dat'\n",
        "cov_file = '/content/drive/MyDrive/Colab Notebooks/Pantheon+SH0ES_STAT+SYS.cov'\n",
        "\n",
        "# Загружаем таблицу с суперновыми\n",
        "# sep=\"\\s+\" означает, что столбцы разделены пробелами или табами\n",
        "SNdata = pd.read_table(data_file, sep=r\"\\s+\")\n",
        "# Сортируем данные по космологическому красному смещению zHD\n",
        "SNdata = SNdata.sort_values(by=[\"zHD\"])\n",
        "# Извлекаем необходимые столбцы и преобразуем их в массивы NumPy\n",
        "zSNe = SNdata[\"zHD\"].to_numpy()         # Космологическое красное смещение\n",
        "zhel = SNdata[\"zHEL\"].to_numpy()        # Гелиоцентрическое красное смещение\n",
        "muobs = SNdata[\"MU_SH0ES\"].to_numpy()   # Модуль расстояния (наблюдаемый)\n",
        "\n",
        "# Файл с ковариационной матрицей был сохранён как CSV в виде одного столбца (сплюснутая матрица 1701×1701)\n",
        "InverseCmat_aux = pd.read_csv(cov_file)\n",
        "# Восстанавливаем двумерную обратную ковариационную матрицу размером 1701×1701\n",
        "n = 1701\n",
        "InverseCmat = [\n",
        "    InverseCmat_aux['1701'][i*n:(i+1)*n].to_numpy()\n",
        "    for i in range(n)]\n",
        "# Преобразуем в NumPy-массив\n",
        "Cinverse = np.array(InverseCmat)\n",
        "# Получаем прямую (обычную) ковариационную матрицу из обратной\n",
        "Cmat = np.linalg.inv(Cinverse)\n",
        "# Извлекаем диагональные элементы из обратной матрицы: это элементы диагональной статистической ошибки\n",
        "Dstatinverse = np.diag(Cinverse)\n",
        "# Вычисляем стандартные отклонения из диагонали обычной ковариационной матрицы\n",
        "Dstat = np.sqrt(np.diag(Cmat))"
      ]
    },
    {
      "cell_type": "code",
      "execution_count": null,
      "id": "c4f8346e",
      "metadata": {
        "id": "c4f8346e"
      },
      "outputs": [],
      "source": [
        "# === Параметры для Байесовского анализа ===\n",
        "sampl = 10000  # Количество выборок в MCMC (или другом методе)\n",
        "par = 5        # Количество параметров модели\n",
        "# sampl = par * 2000 - минимально необходимое количество (увеличить в 2 раза для финальной точности)\n",
        "\n",
        "# Стандартные отклонения для начальных значений параметров (используются в sampling)\n",
        "# Примерно на порядок ниже предполагаемого значения величины\n",
        "sigma_omega_m = 0.01\n",
        "sigma_omega_s = 1\n",
        "sigma_V0      = 0.1\n",
        "sigma_phi_1   = 0.01\n",
        "sigma_H0      = 1.0\n",
        "\n",
        "# === Предварительное выделение массивов (если потребуется для визуализаций) ===\n",
        "\n",
        "dmthSN    = np.zeros(len(zSNe))  # Теоретические значения модуля расстояния\n",
        "dlthSN    = np.zeros(len(zSNe))  # Теоретические значения светового расстояния\n",
        "dldataSN  = np.zeros(len(zSNe))  # Наблюдаемые значения светового расстояния\n",
        "error     = np.zeros(len(zSNe))  # Ошибки\n",
        "dlerror   = np.zeros(len(zSNe))  # Ошибки по световому расстоянию\n",
        "ckm = 299792.458  # Скорость света в км/с\n",
        "\n",
        "# === Интегрируемая функция: 1 / H(z) ===\n",
        "def integrand(x, omega_s, omega_m, V0, phi_1, H0):\n",
        "    Ez2 = omega_s * 10**(-23) * (1 + x)**6 + omega_m * (1 + x)**3 + V0 + phi_1\n",
        "    return 1.0 / (H0 * np.sqrt(Ez2))\n",
        "\n",
        "# === Байесовская логарифмическая функция правдоподобия ===\n",
        "\n",
        "def lnlps(omega_s, omega_m, V0, phi_1, H0):\n",
        "    # Физические ограничения на параметры\n",
        "    if (\n",
        "        omega_s < 0.0 or omega_m < 0.0 or V0 < 0.0 or phi_1 < 0.0 or H0 < 0.0 or\n",
        "        (omega_s*(10**(-23)) + omega_m + V0 + phi_1 != 1.0)\n",
        "    ):\n",
        "        return -1e100  # Очень малое значение логарифма правдоподобия\n",
        "\n",
        "    # Численное интегрирование для каждого z: получаем d_L\n",
        "    d_parSNe = np.zeros(len(zSNe))  # Предварительно выделяем память\n",
        "    for idx, z in enumerate(zSNe):\n",
        "        integral, error_estimate = quad(integrand, 0, z, args=(omega_s, omega_m, V0, phi_1, H0))\n",
        "        d_parSNe[idx] = integral\n",
        "    # Световое расстояние: d_L = (1 + z_hel) * c * \\int dz / H(z)\n",
        "    coefSNe = ckm * (1 + zhel)\n",
        "    dSNe = coefSNe * d_parSNe  # Световое расстояние в Мпк\n",
        "    # Вычисление модуля расстояния (log10)\n",
        "    logdl_thSNe = np.log10(dSNe)\n",
        "    muthSNe = 5 * logdl_thSNe + 25\n",
        "    # Разность наблюдаемых и теоретических величин\n",
        "    Deltamu = muobs - muthSNe\n",
        "    # Статистика χ² с учетом полной ковариационной матрицы\n",
        "    chi2_SNe = np.dot(Deltamu, np.dot(Cinverse, Deltamu))\n",
        "    # Логарифм правдоподобия\n",
        "    loglikely = -0.5 * chi2_SNe\n",
        "    return loglikely"
      ]
    },
    {
      "cell_type": "code",
      "execution_count": null,
      "id": "1e567076",
      "metadata": {
        "scrolled": true,
        "colab": {
          "base_uri": "https://localhost:8080/"
        },
        "collapsed": true,
        "id": "1e567076",
        "outputId": "d0260033-2a02-441b-9c2b-f9d554e6824d"
      },
      "outputs": [
        {
          "output_type": "stream",
          "name": "stderr",
          "text": [
            "INFO:agostini:Initialized external likelihood.\n"
          ]
        },
        {
          "output_type": "stream",
          "name": "stdout",
          "text": [
            "[agostini] Initialized external likelihood.\n"
          ]
        },
        {
          "output_type": "stream",
          "name": "stderr",
          "text": [
            "INFO:mcmc:Getting initial point... (this may take a few seconds)\n"
          ]
        },
        {
          "output_type": "stream",
          "name": "stdout",
          "text": [
            "[mcmc] Getting initial point... (this may take a few seconds)\n"
          ]
        },
        {
          "output_type": "stream",
          "name": "stderr",
          "text": [
            "INFO:mcmc:Initial point: omega_m:0.3, omega_s:5, H0:70, V0:0.7, phi_1:0.005\n"
          ]
        },
        {
          "output_type": "stream",
          "name": "stdout",
          "text": [
            "[mcmc] Initial point: omega_m:0.3, omega_s:5, H0:70, V0:0.7, phi_1:0.005\n"
          ]
        },
        {
          "output_type": "stream",
          "name": "stderr",
          "text": [
            "INFO:model:Measuring speeds... (this may take a few seconds)\n"
          ]
        },
        {
          "output_type": "stream",
          "name": "stdout",
          "text": [
            "[model] Measuring speeds... (this may take a few seconds)\n"
          ]
        },
        {
          "output_type": "stream",
          "name": "stderr",
          "text": [
            "INFO:model:Setting measured speeds (per sec): {agostini: 57000.0}\n"
          ]
        },
        {
          "output_type": "stream",
          "name": "stdout",
          "text": [
            "[model] Setting measured speeds (per sec): {agostini: 57000.0}\n"
          ]
        },
        {
          "output_type": "stream",
          "name": "stderr",
          "text": [
            "INFO:mcmc:Covariance matrix not present. We will start learning the covariance of the proposal earlier: R-1 = 30 (would be 2 if all params loaded).\n"
          ]
        },
        {
          "output_type": "stream",
          "name": "stdout",
          "text": [
            "[mcmc] Covariance matrix not present. We will start learning the covariance of the proposal earlier: R-1 = 30 (would be 2 if all params loaded).\n"
          ]
        },
        {
          "output_type": "stream",
          "name": "stderr",
          "text": [
            "INFO:mcmc:Sampling! (NB: no accepted step will be saved until 300 burn-in samples have been obtained)\n"
          ]
        },
        {
          "output_type": "stream",
          "name": "stdout",
          "text": [
            "[mcmc] Sampling! (NB: no accepted step will be saved until 300 burn-in samples have been obtained)\n"
          ]
        },
        {
          "output_type": "stream",
          "name": "stderr",
          "text": [
            "INFO:mcmc:Progress @ 2025-05-13 13:27:55 : 1 steps taken -- still burning in, 301 accepted steps left.\n"
          ]
        },
        {
          "output_type": "stream",
          "name": "stdout",
          "text": [
            "[mcmc] Progress @ 2025-05-13 13:27:55 : 1 steps taken -- still burning in, 301 accepted steps left.\n"
          ]
        },
        {
          "output_type": "stream",
          "name": "stderr",
          "text": [
            "INFO:mcmc:Finished burn-in phase: discarded 300 accepted steps.\n"
          ]
        },
        {
          "output_type": "stream",
          "name": "stdout",
          "text": [
            "[mcmc] Finished burn-in phase: discarded 300 accepted steps.\n"
          ]
        },
        {
          "output_type": "stream",
          "name": "stderr",
          "text": [
            "INFO:mcmc:Learn + convergence test @ 200 samples accepted.\n"
          ]
        },
        {
          "output_type": "stream",
          "name": "stdout",
          "text": [
            "[mcmc] Learn + convergence test @ 200 samples accepted.\n"
          ]
        },
        {
          "output_type": "stream",
          "name": "stderr",
          "text": [
            "INFO:mcmc: - Acceptance rate: 0.402\n"
          ]
        },
        {
          "output_type": "stream",
          "name": "stdout",
          "text": [
            "[mcmc]  - Acceptance rate: 0.402\n"
          ]
        },
        {
          "output_type": "stream",
          "name": "stderr",
          "text": [
            "INFO:mcmc: - Convergence of means: R-1 = 4.279606 after 160 accepted steps\n"
          ]
        },
        {
          "output_type": "stream",
          "name": "stdout",
          "text": [
            "[mcmc]  - Convergence of means: R-1 = 4.279606 after 160 accepted steps\n"
          ]
        },
        {
          "output_type": "stream",
          "name": "stderr",
          "text": [
            "INFO:mcmc: - Updated covariance matrix of proposal pdf.\n"
          ]
        },
        {
          "output_type": "stream",
          "name": "stdout",
          "text": [
            "[mcmc]  - Updated covariance matrix of proposal pdf.\n"
          ]
        },
        {
          "output_type": "stream",
          "name": "stderr",
          "text": [
            "INFO:mcmc:Learn + convergence test @ 400 samples accepted.\n"
          ]
        },
        {
          "output_type": "stream",
          "name": "stdout",
          "text": [
            "[mcmc] Learn + convergence test @ 400 samples accepted.\n"
          ]
        },
        {
          "output_type": "stream",
          "name": "stderr",
          "text": [
            "INFO:mcmc: - Acceptance rate: 0.445\n"
          ]
        },
        {
          "output_type": "stream",
          "name": "stdout",
          "text": [
            "[mcmc]  - Acceptance rate: 0.445\n"
          ]
        },
        {
          "output_type": "stream",
          "name": "stderr",
          "text": [
            "INFO:mcmc: - Convergence of means: R-1 = 16.815604 after 320 accepted steps\n"
          ]
        },
        {
          "output_type": "stream",
          "name": "stdout",
          "text": [
            "[mcmc]  - Convergence of means: R-1 = 16.815604 after 320 accepted steps\n"
          ]
        },
        {
          "output_type": "stream",
          "name": "stderr",
          "text": [
            "INFO:mcmc: - Updated covariance matrix of proposal pdf.\n"
          ]
        },
        {
          "output_type": "stream",
          "name": "stdout",
          "text": [
            "[mcmc]  - Updated covariance matrix of proposal pdf.\n"
          ]
        },
        {
          "output_type": "stream",
          "name": "stderr",
          "text": [
            "INFO:mcmc:Learn + convergence test @ 600 samples accepted.\n"
          ]
        },
        {
          "output_type": "stream",
          "name": "stdout",
          "text": [
            "[mcmc] Learn + convergence test @ 600 samples accepted.\n"
          ]
        },
        {
          "output_type": "stream",
          "name": "stderr",
          "text": [
            "INFO:mcmc: - Acceptance rate: 0.424\n"
          ]
        },
        {
          "output_type": "stream",
          "name": "stdout",
          "text": [
            "[mcmc]  - Acceptance rate: 0.424\n"
          ]
        },
        {
          "output_type": "stream",
          "name": "stderr",
          "text": [
            "INFO:mcmc: - Convergence of means: R-1 = 2.810330 after 480 accepted steps\n"
          ]
        },
        {
          "output_type": "stream",
          "name": "stdout",
          "text": [
            "[mcmc]  - Convergence of means: R-1 = 2.810330 after 480 accepted steps\n"
          ]
        },
        {
          "output_type": "stream",
          "name": "stderr",
          "text": [
            "INFO:mcmc: - Updated covariance matrix of proposal pdf.\n"
          ]
        },
        {
          "output_type": "stream",
          "name": "stdout",
          "text": [
            "[mcmc]  - Updated covariance matrix of proposal pdf.\n"
          ]
        },
        {
          "output_type": "stream",
          "name": "stderr",
          "text": [
            "INFO:mcmc:Learn + convergence test @ 800 samples accepted.\n"
          ]
        },
        {
          "output_type": "stream",
          "name": "stdout",
          "text": [
            "[mcmc] Learn + convergence test @ 800 samples accepted.\n"
          ]
        },
        {
          "output_type": "stream",
          "name": "stderr",
          "text": [
            "INFO:mcmc: - Acceptance rate: 0.390\n"
          ]
        },
        {
          "output_type": "stream",
          "name": "stdout",
          "text": [
            "[mcmc]  - Acceptance rate: 0.390\n"
          ]
        },
        {
          "output_type": "stream",
          "name": "stderr",
          "text": [
            "INFO:mcmc: - Convergence of means: R-1 = 1.223754 after 640 accepted steps\n"
          ]
        },
        {
          "output_type": "stream",
          "name": "stdout",
          "text": [
            "[mcmc]  - Convergence of means: R-1 = 1.223754 after 640 accepted steps\n"
          ]
        },
        {
          "output_type": "stream",
          "name": "stderr",
          "text": [
            "INFO:mcmc: - Updated covariance matrix of proposal pdf.\n"
          ]
        },
        {
          "output_type": "stream",
          "name": "stdout",
          "text": [
            "[mcmc]  - Updated covariance matrix of proposal pdf.\n"
          ]
        },
        {
          "output_type": "stream",
          "name": "stderr",
          "text": [
            "INFO:mcmc:Learn + convergence test @ 1000 samples accepted.\n"
          ]
        },
        {
          "output_type": "stream",
          "name": "stdout",
          "text": [
            "[mcmc] Learn + convergence test @ 1000 samples accepted.\n"
          ]
        },
        {
          "output_type": "stream",
          "name": "stderr",
          "text": [
            "INFO:mcmc: - Acceptance rate: 0.362\n"
          ]
        },
        {
          "output_type": "stream",
          "name": "stdout",
          "text": [
            "[mcmc]  - Acceptance rate: 0.362\n"
          ]
        },
        {
          "output_type": "stream",
          "name": "stderr",
          "text": [
            "INFO:mcmc: - Convergence of means: R-1 = 0.738427 after 800 accepted steps\n"
          ]
        },
        {
          "output_type": "stream",
          "name": "stdout",
          "text": [
            "[mcmc]  - Convergence of means: R-1 = 0.738427 after 800 accepted steps\n"
          ]
        },
        {
          "output_type": "stream",
          "name": "stderr",
          "text": [
            "INFO:mcmc: - Updated covariance matrix of proposal pdf.\n"
          ]
        },
        {
          "output_type": "stream",
          "name": "stdout",
          "text": [
            "[mcmc]  - Updated covariance matrix of proposal pdf.\n"
          ]
        },
        {
          "output_type": "stream",
          "name": "stderr",
          "text": [
            "INFO:mcmc:Learn + convergence test @ 1200 samples accepted.\n"
          ]
        },
        {
          "output_type": "stream",
          "name": "stdout",
          "text": [
            "[mcmc] Learn + convergence test @ 1200 samples accepted.\n"
          ]
        },
        {
          "output_type": "stream",
          "name": "stderr",
          "text": [
            "INFO:mcmc: - Acceptance rate: 0.331\n"
          ]
        },
        {
          "output_type": "stream",
          "name": "stdout",
          "text": [
            "[mcmc]  - Acceptance rate: 0.331\n"
          ]
        },
        {
          "output_type": "stream",
          "name": "stderr",
          "text": [
            "INFO:mcmc: - Convergence of means: R-1 = 0.270231 after 960 accepted steps\n"
          ]
        },
        {
          "output_type": "stream",
          "name": "stdout",
          "text": [
            "[mcmc]  - Convergence of means: R-1 = 0.270231 after 960 accepted steps\n"
          ]
        },
        {
          "output_type": "stream",
          "name": "stderr",
          "text": [
            "INFO:mcmc: - Updated covariance matrix of proposal pdf.\n"
          ]
        },
        {
          "output_type": "stream",
          "name": "stdout",
          "text": [
            "[mcmc]  - Updated covariance matrix of proposal pdf.\n"
          ]
        },
        {
          "output_type": "stream",
          "name": "stderr",
          "text": [
            "INFO:mcmc:Learn + convergence test @ 1400 samples accepted.\n"
          ]
        },
        {
          "output_type": "stream",
          "name": "stdout",
          "text": [
            "[mcmc] Learn + convergence test @ 1400 samples accepted.\n"
          ]
        },
        {
          "output_type": "stream",
          "name": "stderr",
          "text": [
            "INFO:mcmc: - Acceptance rate: 0.306\n"
          ]
        },
        {
          "output_type": "stream",
          "name": "stdout",
          "text": [
            "[mcmc]  - Acceptance rate: 0.306\n"
          ]
        },
        {
          "output_type": "stream",
          "name": "stderr",
          "text": [
            "INFO:mcmc: - Convergence of means: R-1 = 0.128317 after 1120 accepted steps\n"
          ]
        },
        {
          "output_type": "stream",
          "name": "stdout",
          "text": [
            "[mcmc]  - Convergence of means: R-1 = 0.128317 after 1120 accepted steps\n"
          ]
        },
        {
          "output_type": "stream",
          "name": "stderr",
          "text": [
            "INFO:mcmc: - Updated covariance matrix of proposal pdf.\n"
          ]
        },
        {
          "output_type": "stream",
          "name": "stdout",
          "text": [
            "[mcmc]  - Updated covariance matrix of proposal pdf.\n"
          ]
        },
        {
          "output_type": "stream",
          "name": "stderr",
          "text": [
            "INFO:mcmc:Learn + convergence test @ 1600 samples accepted.\n"
          ]
        },
        {
          "output_type": "stream",
          "name": "stdout",
          "text": [
            "[mcmc] Learn + convergence test @ 1600 samples accepted.\n"
          ]
        },
        {
          "output_type": "stream",
          "name": "stderr",
          "text": [
            "INFO:mcmc: - Acceptance rate: 0.296\n"
          ]
        },
        {
          "output_type": "stream",
          "name": "stdout",
          "text": [
            "[mcmc]  - Acceptance rate: 0.296\n"
          ]
        },
        {
          "output_type": "stream",
          "name": "stderr",
          "text": [
            "INFO:mcmc: - Convergence of means: R-1 = 0.080755 after 1280 accepted steps\n"
          ]
        },
        {
          "output_type": "stream",
          "name": "stdout",
          "text": [
            "[mcmc]  - Convergence of means: R-1 = 0.080755 after 1280 accepted steps\n"
          ]
        },
        {
          "output_type": "stream",
          "name": "stderr",
          "text": [
            "INFO:mcmc: - Updated covariance matrix of proposal pdf.\n"
          ]
        },
        {
          "output_type": "stream",
          "name": "stdout",
          "text": [
            "[mcmc]  - Updated covariance matrix of proposal pdf.\n"
          ]
        },
        {
          "output_type": "stream",
          "name": "stderr",
          "text": [
            "INFO:mcmc:Learn + convergence test @ 1800 samples accepted.\n"
          ]
        },
        {
          "output_type": "stream",
          "name": "stdout",
          "text": [
            "[mcmc] Learn + convergence test @ 1800 samples accepted.\n"
          ]
        },
        {
          "output_type": "stream",
          "name": "stderr",
          "text": [
            "INFO:mcmc: - Acceptance rate: 0.284\n"
          ]
        },
        {
          "output_type": "stream",
          "name": "stdout",
          "text": [
            "[mcmc]  - Acceptance rate: 0.284\n"
          ]
        },
        {
          "output_type": "stream",
          "name": "stderr",
          "text": [
            "INFO:mcmc: - Convergence of means: R-1 = 0.068169 after 1440 accepted steps\n"
          ]
        },
        {
          "output_type": "stream",
          "name": "stdout",
          "text": [
            "[mcmc]  - Convergence of means: R-1 = 0.068169 after 1440 accepted steps\n"
          ]
        },
        {
          "output_type": "stream",
          "name": "stderr",
          "text": [
            "INFO:mcmc: - Convergence of bounds: R-1 = 0.290919 after 1800 accepted steps\n"
          ]
        },
        {
          "output_type": "stream",
          "name": "stdout",
          "text": [
            "[mcmc]  - Convergence of bounds: R-1 = 0.290919 after 1800 accepted steps\n"
          ]
        },
        {
          "output_type": "stream",
          "name": "stderr",
          "text": [
            "INFO:mcmc: - Updated covariance matrix of proposal pdf.\n"
          ]
        },
        {
          "output_type": "stream",
          "name": "stdout",
          "text": [
            "[mcmc]  - Updated covariance matrix of proposal pdf.\n"
          ]
        },
        {
          "output_type": "stream",
          "name": "stderr",
          "text": [
            "INFO:mcmc:Learn + convergence test @ 2000 samples accepted.\n"
          ]
        },
        {
          "output_type": "stream",
          "name": "stdout",
          "text": [
            "[mcmc] Learn + convergence test @ 2000 samples accepted.\n"
          ]
        },
        {
          "output_type": "stream",
          "name": "stderr",
          "text": [
            "INFO:mcmc: - Acceptance rate: 0.276\n"
          ]
        },
        {
          "output_type": "stream",
          "name": "stdout",
          "text": [
            "[mcmc]  - Acceptance rate: 0.276\n"
          ]
        },
        {
          "output_type": "stream",
          "name": "stderr",
          "text": [
            "INFO:mcmc: - Convergence of means: R-1 = 0.052471 after 1600 accepted steps\n"
          ]
        },
        {
          "output_type": "stream",
          "name": "stdout",
          "text": [
            "[mcmc]  - Convergence of means: R-1 = 0.052471 after 1600 accepted steps\n"
          ]
        },
        {
          "output_type": "stream",
          "name": "stderr",
          "text": [
            "INFO:mcmc: - Convergence of bounds: R-1 = 0.260510 after 2000 accepted steps\n"
          ]
        },
        {
          "output_type": "stream",
          "name": "stdout",
          "text": [
            "[mcmc]  - Convergence of bounds: R-1 = 0.260510 after 2000 accepted steps\n"
          ]
        },
        {
          "output_type": "stream",
          "name": "stderr",
          "text": [
            "INFO:mcmc: - Updated covariance matrix of proposal pdf.\n"
          ]
        },
        {
          "output_type": "stream",
          "name": "stdout",
          "text": [
            "[mcmc]  - Updated covariance matrix of proposal pdf.\n"
          ]
        },
        {
          "output_type": "stream",
          "name": "stderr",
          "text": [
            "INFO:mcmc:Learn + convergence test @ 2200 samples accepted.\n"
          ]
        },
        {
          "output_type": "stream",
          "name": "stdout",
          "text": [
            "[mcmc] Learn + convergence test @ 2200 samples accepted.\n"
          ]
        },
        {
          "output_type": "stream",
          "name": "stderr",
          "text": [
            "INFO:mcmc: - Acceptance rate: 0.270\n"
          ]
        },
        {
          "output_type": "stream",
          "name": "stdout",
          "text": [
            "[mcmc]  - Acceptance rate: 0.270\n"
          ]
        },
        {
          "output_type": "stream",
          "name": "stderr",
          "text": [
            "INFO:mcmc: - Convergence of means: R-1 = 0.052849 after 1760 accepted steps\n"
          ]
        },
        {
          "output_type": "stream",
          "name": "stdout",
          "text": [
            "[mcmc]  - Convergence of means: R-1 = 0.052849 after 1760 accepted steps\n"
          ]
        },
        {
          "output_type": "stream",
          "name": "stderr",
          "text": [
            "INFO:mcmc: - Convergence of bounds: R-1 = 0.200176 after 2200 accepted steps\n"
          ]
        },
        {
          "output_type": "stream",
          "name": "stdout",
          "text": [
            "[mcmc]  - Convergence of bounds: R-1 = 0.200176 after 2200 accepted steps\n"
          ]
        },
        {
          "output_type": "stream",
          "name": "stderr",
          "text": [
            "INFO:mcmc: - Updated covariance matrix of proposal pdf.\n"
          ]
        },
        {
          "output_type": "stream",
          "name": "stdout",
          "text": [
            "[mcmc]  - Updated covariance matrix of proposal pdf.\n"
          ]
        },
        {
          "output_type": "stream",
          "name": "stderr",
          "text": [
            "INFO:mcmc:Learn + convergence test @ 2400 samples accepted.\n"
          ]
        },
        {
          "output_type": "stream",
          "name": "stdout",
          "text": [
            "[mcmc] Learn + convergence test @ 2400 samples accepted.\n"
          ]
        },
        {
          "output_type": "stream",
          "name": "stderr",
          "text": [
            "INFO:mcmc: - Acceptance rate: 0.266\n"
          ]
        },
        {
          "output_type": "stream",
          "name": "stdout",
          "text": [
            "[mcmc]  - Acceptance rate: 0.266\n"
          ]
        },
        {
          "output_type": "stream",
          "name": "stderr",
          "text": [
            "INFO:mcmc: - Convergence of means: R-1 = 0.050797 after 1920 accepted steps\n"
          ]
        },
        {
          "output_type": "stream",
          "name": "stdout",
          "text": [
            "[mcmc]  - Convergence of means: R-1 = 0.050797 after 1920 accepted steps\n"
          ]
        },
        {
          "output_type": "stream",
          "name": "stderr",
          "text": [
            "INFO:mcmc: - Convergence of bounds: R-1 = 0.192489 after 2400 accepted steps\n"
          ]
        },
        {
          "output_type": "stream",
          "name": "stdout",
          "text": [
            "[mcmc]  - Convergence of bounds: R-1 = 0.192489 after 2400 accepted steps\n"
          ]
        },
        {
          "output_type": "stream",
          "name": "stderr",
          "text": [
            "INFO:mcmc: - Updated covariance matrix of proposal pdf.\n"
          ]
        },
        {
          "output_type": "stream",
          "name": "stdout",
          "text": [
            "[mcmc]  - Updated covariance matrix of proposal pdf.\n"
          ]
        },
        {
          "output_type": "stream",
          "name": "stderr",
          "text": [
            "INFO:mcmc:Learn + convergence test @ 2600 samples accepted.\n"
          ]
        },
        {
          "output_type": "stream",
          "name": "stdout",
          "text": [
            "[mcmc] Learn + convergence test @ 2600 samples accepted.\n"
          ]
        },
        {
          "output_type": "stream",
          "name": "stderr",
          "text": [
            "INFO:mcmc: - Acceptance rate: 0.264\n"
          ]
        },
        {
          "output_type": "stream",
          "name": "stdout",
          "text": [
            "[mcmc]  - Acceptance rate: 0.264\n"
          ]
        },
        {
          "output_type": "stream",
          "name": "stderr",
          "text": [
            "INFO:mcmc: - Convergence of means: R-1 = 0.024101 after 2080 accepted steps\n"
          ]
        },
        {
          "output_type": "stream",
          "name": "stdout",
          "text": [
            "[mcmc]  - Convergence of means: R-1 = 0.024101 after 2080 accepted steps\n"
          ]
        },
        {
          "output_type": "stream",
          "name": "stderr",
          "text": [
            "INFO:mcmc: - Convergence of bounds: R-1 = 0.166558 after 2600 accepted steps\n"
          ]
        },
        {
          "output_type": "stream",
          "name": "stdout",
          "text": [
            "[mcmc]  - Convergence of bounds: R-1 = 0.166558 after 2600 accepted steps\n"
          ]
        },
        {
          "output_type": "stream",
          "name": "stderr",
          "text": [
            "INFO:mcmc: - Updated covariance matrix of proposal pdf.\n"
          ]
        },
        {
          "output_type": "stream",
          "name": "stdout",
          "text": [
            "[mcmc]  - Updated covariance matrix of proposal pdf.\n"
          ]
        },
        {
          "output_type": "stream",
          "name": "stderr",
          "text": [
            "INFO:mcmc:Learn + convergence test @ 2800 samples accepted.\n"
          ]
        },
        {
          "output_type": "stream",
          "name": "stdout",
          "text": [
            "[mcmc] Learn + convergence test @ 2800 samples accepted.\n"
          ]
        },
        {
          "output_type": "stream",
          "name": "stderr",
          "text": [
            "INFO:mcmc: - Acceptance rate: 0.262\n"
          ]
        },
        {
          "output_type": "stream",
          "name": "stdout",
          "text": [
            "[mcmc]  - Acceptance rate: 0.262\n"
          ]
        },
        {
          "output_type": "stream",
          "name": "stderr",
          "text": [
            "INFO:mcmc: - Convergence of means: R-1 = 0.055893 after 2240 accepted steps\n"
          ]
        },
        {
          "output_type": "stream",
          "name": "stdout",
          "text": [
            "[mcmc]  - Convergence of means: R-1 = 0.055893 after 2240 accepted steps\n"
          ]
        },
        {
          "output_type": "stream",
          "name": "stderr",
          "text": [
            "INFO:mcmc: - Convergence of bounds: R-1 = 0.239776 after 2800 accepted steps\n"
          ]
        },
        {
          "output_type": "stream",
          "name": "stdout",
          "text": [
            "[mcmc]  - Convergence of bounds: R-1 = 0.239776 after 2800 accepted steps\n"
          ]
        },
        {
          "output_type": "stream",
          "name": "stderr",
          "text": [
            "INFO:mcmc: - Updated covariance matrix of proposal pdf.\n"
          ]
        },
        {
          "output_type": "stream",
          "name": "stdout",
          "text": [
            "[mcmc]  - Updated covariance matrix of proposal pdf.\n"
          ]
        },
        {
          "output_type": "stream",
          "name": "stderr",
          "text": [
            "INFO:mcmc:Learn + convergence test @ 3000 samples accepted.\n"
          ]
        },
        {
          "output_type": "stream",
          "name": "stdout",
          "text": [
            "[mcmc] Learn + convergence test @ 3000 samples accepted.\n"
          ]
        },
        {
          "output_type": "stream",
          "name": "stderr",
          "text": [
            "INFO:mcmc: - Acceptance rate: 0.260\n"
          ]
        },
        {
          "output_type": "stream",
          "name": "stdout",
          "text": [
            "[mcmc]  - Acceptance rate: 0.260\n"
          ]
        },
        {
          "output_type": "stream",
          "name": "stderr",
          "text": [
            "INFO:mcmc: - Convergence of means: R-1 = 0.017990 after 2400 accepted steps\n"
          ]
        },
        {
          "output_type": "stream",
          "name": "stdout",
          "text": [
            "[mcmc]  - Convergence of means: R-1 = 0.017990 after 2400 accepted steps\n"
          ]
        },
        {
          "output_type": "stream",
          "name": "stderr",
          "text": [
            "INFO:mcmc: - Convergence of bounds: R-1 = 0.138919 after 3000 accepted steps\n"
          ]
        },
        {
          "output_type": "stream",
          "name": "stdout",
          "text": [
            "[mcmc]  - Convergence of bounds: R-1 = 0.138919 after 3000 accepted steps\n"
          ]
        },
        {
          "output_type": "stream",
          "name": "stderr",
          "text": [
            "INFO:mcmc: - Updated covariance matrix of proposal pdf.\n"
          ]
        },
        {
          "output_type": "stream",
          "name": "stdout",
          "text": [
            "[mcmc]  - Updated covariance matrix of proposal pdf.\n"
          ]
        },
        {
          "output_type": "stream",
          "name": "stderr",
          "text": [
            "INFO:mcmc:Learn + convergence test @ 3200 samples accepted.\n"
          ]
        },
        {
          "output_type": "stream",
          "name": "stdout",
          "text": [
            "[mcmc] Learn + convergence test @ 3200 samples accepted.\n"
          ]
        },
        {
          "output_type": "stream",
          "name": "stderr",
          "text": [
            "INFO:mcmc: - Acceptance rate: 0.259\n"
          ]
        },
        {
          "output_type": "stream",
          "name": "stdout",
          "text": [
            "[mcmc]  - Acceptance rate: 0.259\n"
          ]
        },
        {
          "output_type": "stream",
          "name": "stderr",
          "text": [
            "INFO:mcmc: - Convergence of means: R-1 = 0.030225 after 2560 accepted steps\n"
          ]
        },
        {
          "output_type": "stream",
          "name": "stdout",
          "text": [
            "[mcmc]  - Convergence of means: R-1 = 0.030225 after 2560 accepted steps\n"
          ]
        },
        {
          "output_type": "stream",
          "name": "stderr",
          "text": [
            "INFO:mcmc: - Convergence of bounds: R-1 = 0.161402 after 3200 accepted steps\n"
          ]
        },
        {
          "output_type": "stream",
          "name": "stdout",
          "text": [
            "[mcmc]  - Convergence of bounds: R-1 = 0.161402 after 3200 accepted steps\n"
          ]
        },
        {
          "output_type": "stream",
          "name": "stderr",
          "text": [
            "INFO:mcmc: - Updated covariance matrix of proposal pdf.\n"
          ]
        },
        {
          "output_type": "stream",
          "name": "stdout",
          "text": [
            "[mcmc]  - Updated covariance matrix of proposal pdf.\n"
          ]
        },
        {
          "output_type": "stream",
          "name": "stderr",
          "text": [
            "INFO:mcmc:Learn + convergence test @ 3400 samples accepted.\n"
          ]
        },
        {
          "output_type": "stream",
          "name": "stdout",
          "text": [
            "[mcmc] Learn + convergence test @ 3400 samples accepted.\n"
          ]
        },
        {
          "output_type": "stream",
          "name": "stderr",
          "text": [
            "INFO:mcmc: - Acceptance rate: 0.259\n"
          ]
        },
        {
          "output_type": "stream",
          "name": "stdout",
          "text": [
            "[mcmc]  - Acceptance rate: 0.259\n"
          ]
        },
        {
          "output_type": "stream",
          "name": "stderr",
          "text": [
            "INFO:mcmc: - Convergence of means: R-1 = 0.024544 after 2720 accepted steps\n"
          ]
        },
        {
          "output_type": "stream",
          "name": "stdout",
          "text": [
            "[mcmc]  - Convergence of means: R-1 = 0.024544 after 2720 accepted steps\n"
          ]
        },
        {
          "output_type": "stream",
          "name": "stderr",
          "text": [
            "INFO:mcmc: - Convergence of bounds: R-1 = 0.154161 after 3400 accepted steps\n"
          ]
        },
        {
          "output_type": "stream",
          "name": "stdout",
          "text": [
            "[mcmc]  - Convergence of bounds: R-1 = 0.154161 after 3400 accepted steps\n"
          ]
        },
        {
          "output_type": "stream",
          "name": "stderr",
          "text": [
            "INFO:mcmc: - Updated covariance matrix of proposal pdf.\n"
          ]
        },
        {
          "output_type": "stream",
          "name": "stdout",
          "text": [
            "[mcmc]  - Updated covariance matrix of proposal pdf.\n"
          ]
        },
        {
          "output_type": "stream",
          "name": "stderr",
          "text": [
            "INFO:mcmc:Learn + convergence test @ 3600 samples accepted.\n"
          ]
        },
        {
          "output_type": "stream",
          "name": "stdout",
          "text": [
            "[mcmc] Learn + convergence test @ 3600 samples accepted.\n"
          ]
        },
        {
          "output_type": "stream",
          "name": "stderr",
          "text": [
            "INFO:mcmc: - Acceptance rate: 0.259\n"
          ]
        },
        {
          "output_type": "stream",
          "name": "stdout",
          "text": [
            "[mcmc]  - Acceptance rate: 0.259\n"
          ]
        },
        {
          "output_type": "stream",
          "name": "stderr",
          "text": [
            "INFO:mcmc: - Convergence of means: R-1 = 0.047004 after 2880 accepted steps\n"
          ]
        },
        {
          "output_type": "stream",
          "name": "stdout",
          "text": [
            "[mcmc]  - Convergence of means: R-1 = 0.047004 after 2880 accepted steps\n"
          ]
        },
        {
          "output_type": "stream",
          "name": "stderr",
          "text": [
            "INFO:mcmc: - Convergence of bounds: R-1 = 0.215721 after 3600 accepted steps\n"
          ]
        },
        {
          "output_type": "stream",
          "name": "stdout",
          "text": [
            "[mcmc]  - Convergence of bounds: R-1 = 0.215721 after 3600 accepted steps\n"
          ]
        },
        {
          "output_type": "stream",
          "name": "stderr",
          "text": [
            "INFO:mcmc: - Updated covariance matrix of proposal pdf.\n"
          ]
        },
        {
          "output_type": "stream",
          "name": "stdout",
          "text": [
            "[mcmc]  - Updated covariance matrix of proposal pdf.\n"
          ]
        },
        {
          "output_type": "stream",
          "name": "stderr",
          "text": [
            "INFO:mcmc:Learn + convergence test @ 3800 samples accepted.\n"
          ]
        },
        {
          "output_type": "stream",
          "name": "stdout",
          "text": [
            "[mcmc] Learn + convergence test @ 3800 samples accepted.\n"
          ]
        },
        {
          "output_type": "stream",
          "name": "stderr",
          "text": [
            "INFO:mcmc: - Acceptance rate: 0.258\n"
          ]
        },
        {
          "output_type": "stream",
          "name": "stdout",
          "text": [
            "[mcmc]  - Acceptance rate: 0.258\n"
          ]
        },
        {
          "output_type": "stream",
          "name": "stderr",
          "text": [
            "INFO:mcmc: - Convergence of means: R-1 = 0.032889 after 3040 accepted steps\n"
          ]
        },
        {
          "output_type": "stream",
          "name": "stdout",
          "text": [
            "[mcmc]  - Convergence of means: R-1 = 0.032889 after 3040 accepted steps\n"
          ]
        },
        {
          "output_type": "stream",
          "name": "stderr",
          "text": [
            "INFO:mcmc: - Convergence of bounds: R-1 = 0.164551 after 3800 accepted steps\n"
          ]
        },
        {
          "output_type": "stream",
          "name": "stdout",
          "text": [
            "[mcmc]  - Convergence of bounds: R-1 = 0.164551 after 3800 accepted steps\n"
          ]
        },
        {
          "output_type": "stream",
          "name": "stderr",
          "text": [
            "INFO:mcmc: - Updated covariance matrix of proposal pdf.\n"
          ]
        },
        {
          "output_type": "stream",
          "name": "stdout",
          "text": [
            "[mcmc]  - Updated covariance matrix of proposal pdf.\n"
          ]
        },
        {
          "output_type": "stream",
          "name": "stderr",
          "text": [
            "INFO:mcmc:Learn + convergence test @ 4000 samples accepted.\n"
          ]
        },
        {
          "output_type": "stream",
          "name": "stdout",
          "text": [
            "[mcmc] Learn + convergence test @ 4000 samples accepted.\n"
          ]
        },
        {
          "output_type": "stream",
          "name": "stderr",
          "text": [
            "INFO:mcmc: - Acceptance rate: 0.258\n"
          ]
        },
        {
          "output_type": "stream",
          "name": "stdout",
          "text": [
            "[mcmc]  - Acceptance rate: 0.258\n"
          ]
        },
        {
          "output_type": "stream",
          "name": "stderr",
          "text": [
            "INFO:mcmc: - Convergence of means: R-1 = 0.019631 after 3200 accepted steps\n"
          ]
        },
        {
          "output_type": "stream",
          "name": "stdout",
          "text": [
            "[mcmc]  - Convergence of means: R-1 = 0.019631 after 3200 accepted steps\n"
          ]
        },
        {
          "output_type": "stream",
          "name": "stderr",
          "text": [
            "INFO:mcmc: - Convergence of bounds: R-1 = 0.137070 after 4000 accepted steps\n"
          ]
        },
        {
          "output_type": "stream",
          "name": "stdout",
          "text": [
            "[mcmc]  - Convergence of bounds: R-1 = 0.137070 after 4000 accepted steps\n"
          ]
        },
        {
          "output_type": "stream",
          "name": "stderr",
          "text": [
            "INFO:mcmc: - Updated covariance matrix of proposal pdf.\n"
          ]
        },
        {
          "output_type": "stream",
          "name": "stdout",
          "text": [
            "[mcmc]  - Updated covariance matrix of proposal pdf.\n"
          ]
        },
        {
          "output_type": "stream",
          "name": "stderr",
          "text": [
            "INFO:mcmc:Learn + convergence test @ 4200 samples accepted.\n"
          ]
        },
        {
          "output_type": "stream",
          "name": "stdout",
          "text": [
            "[mcmc] Learn + convergence test @ 4200 samples accepted.\n"
          ]
        },
        {
          "output_type": "stream",
          "name": "stderr",
          "text": [
            "INFO:mcmc: - Acceptance rate: 0.260\n"
          ]
        },
        {
          "output_type": "stream",
          "name": "stdout",
          "text": [
            "[mcmc]  - Acceptance rate: 0.260\n"
          ]
        },
        {
          "output_type": "stream",
          "name": "stderr",
          "text": [
            "INFO:mcmc: - Convergence of means: R-1 = 0.019977 after 3360 accepted steps\n"
          ]
        },
        {
          "output_type": "stream",
          "name": "stdout",
          "text": [
            "[mcmc]  - Convergence of means: R-1 = 0.019977 after 3360 accepted steps\n"
          ]
        },
        {
          "output_type": "stream",
          "name": "stderr",
          "text": [
            "INFO:mcmc: - Convergence of bounds: R-1 = 0.130872 after 4200 accepted steps\n"
          ]
        },
        {
          "output_type": "stream",
          "name": "stdout",
          "text": [
            "[mcmc]  - Convergence of bounds: R-1 = 0.130872 after 4200 accepted steps\n"
          ]
        },
        {
          "output_type": "stream",
          "name": "stderr",
          "text": [
            "INFO:mcmc: - Updated covariance matrix of proposal pdf.\n"
          ]
        },
        {
          "output_type": "stream",
          "name": "stdout",
          "text": [
            "[mcmc]  - Updated covariance matrix of proposal pdf.\n"
          ]
        },
        {
          "output_type": "stream",
          "name": "stderr",
          "text": [
            "INFO:mcmc:Learn + convergence test @ 4400 samples accepted.\n"
          ]
        },
        {
          "output_type": "stream",
          "name": "stdout",
          "text": [
            "[mcmc] Learn + convergence test @ 4400 samples accepted.\n"
          ]
        },
        {
          "output_type": "stream",
          "name": "stderr",
          "text": [
            "INFO:mcmc: - Acceptance rate: 0.260\n"
          ]
        },
        {
          "output_type": "stream",
          "name": "stdout",
          "text": [
            "[mcmc]  - Acceptance rate: 0.260\n"
          ]
        },
        {
          "output_type": "stream",
          "name": "stderr",
          "text": [
            "INFO:mcmc: - Convergence of means: R-1 = 0.011988 after 3520 accepted steps\n"
          ]
        },
        {
          "output_type": "stream",
          "name": "stdout",
          "text": [
            "[mcmc]  - Convergence of means: R-1 = 0.011988 after 3520 accepted steps\n"
          ]
        },
        {
          "output_type": "stream",
          "name": "stderr",
          "text": [
            "INFO:mcmc: - Convergence of bounds: R-1 = 0.131693 after 4400 accepted steps\n"
          ]
        },
        {
          "output_type": "stream",
          "name": "stdout",
          "text": [
            "[mcmc]  - Convergence of bounds: R-1 = 0.131693 after 4400 accepted steps\n"
          ]
        },
        {
          "output_type": "stream",
          "name": "stderr",
          "text": [
            "INFO:mcmc: - Updated covariance matrix of proposal pdf.\n"
          ]
        },
        {
          "output_type": "stream",
          "name": "stdout",
          "text": [
            "[mcmc]  - Updated covariance matrix of proposal pdf.\n"
          ]
        },
        {
          "output_type": "stream",
          "name": "stderr",
          "text": [
            "INFO:mcmc:Learn + convergence test @ 4600 samples accepted.\n"
          ]
        },
        {
          "output_type": "stream",
          "name": "stdout",
          "text": [
            "[mcmc] Learn + convergence test @ 4600 samples accepted.\n"
          ]
        },
        {
          "output_type": "stream",
          "name": "stderr",
          "text": [
            "INFO:mcmc: - Acceptance rate: 0.257\n"
          ]
        },
        {
          "output_type": "stream",
          "name": "stdout",
          "text": [
            "[mcmc]  - Acceptance rate: 0.257\n"
          ]
        },
        {
          "output_type": "stream",
          "name": "stderr",
          "text": [
            "INFO:mcmc: - Convergence of means: R-1 = 0.008918 after 3680 accepted steps\n"
          ]
        },
        {
          "output_type": "stream",
          "name": "stdout",
          "text": [
            "[mcmc]  - Convergence of means: R-1 = 0.008918 after 3680 accepted steps\n"
          ]
        },
        {
          "output_type": "stream",
          "name": "stderr",
          "text": [
            "INFO:mcmc: - Convergence of bounds: R-1 = 0.091462 after 4600 accepted steps\n"
          ]
        },
        {
          "output_type": "stream",
          "name": "stdout",
          "text": [
            "[mcmc]  - Convergence of bounds: R-1 = 0.091462 after 4600 accepted steps\n"
          ]
        },
        {
          "output_type": "stream",
          "name": "stderr",
          "text": [
            "INFO:mcmc:The run has converged!\n"
          ]
        },
        {
          "output_type": "stream",
          "name": "stdout",
          "text": [
            "[mcmc] The run has converged!\n"
          ]
        },
        {
          "output_type": "stream",
          "name": "stderr",
          "text": [
            "INFO:mcmc:Sampling complete after 4600 accepted steps.\n"
          ]
        },
        {
          "output_type": "stream",
          "name": "stdout",
          "text": [
            "[mcmc] Sampling complete after 4600 accepted steps.\n"
          ]
        }
      ],
      "source": [
        "# === Подключаем логарифм функции правдоподобия к системе Cobaya ===\n",
        "info_PS = {\"likelihood\": {\"agostini\": lnlps}}\n",
        "# Пользовательская функция логарифма правдоподобия\n",
        "\n",
        "# === Задаем параметры модели и их приоры в виде OrderedDict ===\n",
        "from collections import OrderedDict as odict\n",
        "info_PS[\"params\"] = odict([\n",
        "    [\"omega_m\", {\n",
        "        \"prior\": { \"dist\": \"uniform\", \"min\": 0.2, \"max\": 0.4 },  # Минимум-максимум\n",
        "        \"ref\": 0.3,                 # Стартовая (референсная) точка\n",
        "        \"latex\": r\"\\Omega_m\",       # Обозначение для графиков\n",
        "        \"proposal\": 0.01            # Шаг проб в цепочке\n",
        "    }],\n",
        "    [\"omega_s\", {\n",
        "        \"prior\": { \"dist\": \"uniform\", \"min\": 3, \"max\": 7 },\n",
        "        \"ref\": 5,\n",
        "        \"latex\": r\"\\Omega_s\",\n",
        "        \"proposal\": 1\n",
        "    }],\n",
        "    [\"H0\", {\n",
        "        \"prior\": { \"dist\": \"uniform\", \"min\": 60.0, \"max\": 80.0 },\n",
        "        \"ref\": 70.0,\n",
        "        \"latex\": r\"H_0\",\n",
        "        \"proposal\": 0.1\n",
        "    }],\n",
        "    [\"V0\", {\n",
        "        \"prior\": { \"dist\": \"uniform\", \"min\": 0.6, \"max\": 0.8 },\n",
        "        \"ref\": 0.7,\n",
        "        \"latex\": r\"V_0\",\n",
        "        \"proposal\": 0.1\n",
        "    }],\n",
        "    [\"phi_1\", {\n",
        "        \"prior\": { \"dist\": \"uniform\", \"min\": 0.0, \"max\": 0.01 },\n",
        "        \"ref\": 0.005,\n",
        "        \"latex\": r\"\\phi_1\",\n",
        "        \"proposal\": 0.0001\n",
        "    }]])\n",
        "\n",
        "# === Настройки MCMC-сэмплера Cobaya ===\n",
        "info_PS[\"sampler\"] = {\n",
        "    \"mcmc\": {\n",
        "        \"burn_in\": 300,              # Длина прогорания\n",
        "        \"max_samples\": 1000000,      # Максимум выборок\n",
        "        \"Rminus1_stop\": 0.1,         # Условие остановки по Gelman–Rubin\n",
        "        \"Rminus1_cl_stop\": 0.1,\n",
        "        \"learn_proposal\": True       # Автоматическая подстройка предложений\n",
        "    }}\n",
        "\n",
        "# === Запуск анализа ===\n",
        "updated_info_PS, sampler_PS = run(info_PS)\n",
        "\n",
        "# Время выполнения для данного примера: ~7.5 минут (можно уменьшить через max_samples или proposal)"
      ]
    },
    {
      "cell_type": "code",
      "execution_count": null,
      "id": "1ea4d90e-6714-4897-acf3-d9cae9e48791",
      "metadata": {
        "colab": {
          "base_uri": "https://localhost:8080/",
          "height": 244
        },
        "id": "1ea4d90e-6714-4897-acf3-d9cae9e48791",
        "outputId": "81e18135-2eb4-42d8-adc3-f08925d71134"
      },
      "outputs": [
        {
          "output_type": "stream",
          "name": "stderr",
          "text": [
            "WARNING:root:outlier fraction 0.0019021739130434783 \n"
          ]
        },
        {
          "output_type": "stream",
          "name": "stdout",
          "text": [
            "[root] *WARNING* outlier fraction 0.0019021739130434783 \n"
          ]
        },
        {
          "output_type": "stream",
          "name": "stderr",
          "text": [
            "WARNING:root:auto bandwidth for omega_m very small or failed (h=0.0005648335655975966,N_eff=998.9030879231988). Using fallback (h=0.09651715060685691)\n"
          ]
        },
        {
          "output_type": "stream",
          "name": "stdout",
          "text": [
            "[root] *WARNING* auto bandwidth for omega_m very small or failed (h=0.0005648335655975966,N_eff=998.9030879231988). Using fallback (h=0.09651715060685691)\n"
          ]
        },
        {
          "output_type": "stream",
          "name": "stderr",
          "text": [
            "WARNING:root:auto bandwidth for V0 very small or failed (h=0.0005545404606385197,N_eff=1053.4548709219107). Using fallback (h=0.09613883117627811)\n"
          ]
        },
        {
          "output_type": "stream",
          "name": "stdout",
          "text": [
            "[root] *WARNING* auto bandwidth for V0 very small or failed (h=0.0005545404606385197,N_eff=1053.4548709219107). Using fallback (h=0.09613883117627811)\n",
            "Средние значения и 1σ интервалы:\n"
          ]
        },
        {
          "output_type": "display_data",
          "data": {
            "text/plain": [
              "<IPython.core.display.Math object>"
            ],
            "text/latex": "$\\displaystyle \\Omega_m = 0.3005 \\pm 0.0578$"
          },
          "metadata": {}
        },
        {
          "output_type": "display_data",
          "data": {
            "text/plain": [
              "<IPython.core.display.Math object>"
            ],
            "text/latex": "$\\displaystyle \\Omega_s \\times 10^{-23} = 5.0772 \\pm 1.1624$"
          },
          "metadata": {}
        },
        {
          "output_type": "display_data",
          "data": {
            "text/plain": [
              "<IPython.core.display.Math object>"
            ],
            "text/latex": "$\\displaystyle H_0 = 70.0455 \\pm 5.9508$"
          },
          "metadata": {}
        },
        {
          "output_type": "display_data",
          "data": {
            "text/plain": [
              "<IPython.core.display.Math object>"
            ],
            "text/latex": "$\\displaystyle V_0 = 0.7017 \\pm 0.0580$"
          },
          "metadata": {}
        },
        {
          "output_type": "display_data",
          "data": {
            "text/plain": [
              "<IPython.core.display.Math object>"
            ],
            "text/latex": "$\\displaystyle \\phi_1 = 0.0050 \\pm 0.0029$"
          },
          "metadata": {}
        }
      ],
      "source": [
        "gdsamples_PS = MCSamplesFromCobaya(updated_info_PS, sampler_PS.products()[\"sample\"], ignore_rows=0.2)\n",
        "gdplot = gdplt.getSubplotPlotter(width_inch=8)\n",
        "\n",
        "plt.rcParams['text.usetex'] = False\n",
        "plt.rcParams['mathtext.fontset'] = 'cm'\n",
        "\n",
        "param_labels = [r'$\\Omega_s$', r'$\\Omega_m$', r'$V_0$', r'$\\phi_1$', r'$H_0$']\n",
        "gdplot.triangle_plot(gdsamples_PS, [\"omega_s\", \"omega_m\", \"V0\", \"phi_1\", \"H0\"], filled=True, title_limit_1d=True)\n",
        "mean = gdsamples_PS.getMeans()[:5]\n",
        "sigma = np.sqrt(np.array(gdsamples_PS.getVars()[:5]))\n",
        "covmat = gdsamples_PS.getCovMat().matrix[:5, :5]\n",
        "\n",
        "plt.savefig(\"HubblePantheon+SH0ES.pdf\", format=\"pdf\", bbox_inches=\"tight\")\n",
        "\n",
        "from IPython.display import display, Math\n",
        "\n",
        "param_names = [r'\\Omega_m', r'\\Omega_s \\times 10^{-23}', r'H_0', r'V_0', r'\\phi_1']\n",
        "print(\"Средние значения и 1σ интервалы:\")\n",
        "for i in range(len(mean)):\n",
        "    expression = r\"${0} = {1:.4f} \\pm {2:.4f}$\".format(param_names[i], mean[i], sigma[i])\n",
        "    display(Math(expression))"
      ]
    },
    {
      "cell_type": "code",
      "execution_count": null,
      "id": "ee2c6297-99ee-4d28-936c-94076c74dbeb",
      "metadata": {
        "id": "ee2c6297-99ee-4d28-936c-94076c74dbeb"
      },
      "outputs": [],
      "source": []
    }
  ],
  "metadata": {
    "kernelspec": {
      "display_name": "Python 3 (ipykernel)",
      "language": "python",
      "name": "python3"
    },
    "language_info": {
      "codemirror_mode": {
        "name": "ipython",
        "version": 3
      },
      "file_extension": ".py",
      "mimetype": "text/x-python",
      "name": "python",
      "nbconvert_exporter": "python",
      "pygments_lexer": "ipython3",
      "version": "3.10.12"
    },
    "vscode": {
      "interpreter": {
        "hash": "916dbcbb3f70747c44a77c7bcd40155683ae19c65e1c03b4aa3499c5328201f1"
      }
    },
    "colab": {
      "provenance": [],
      "include_colab_link": true
    }
  },
  "nbformat": 4,
  "nbformat_minor": 5
}